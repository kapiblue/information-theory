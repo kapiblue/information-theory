{
 "cells": [
  {
   "cell_type": "markdown",
   "metadata": {},
   "source": [
    "## Huffman coding\n",
    "Kacper Dobek 148247"
   ]
  },
  {
   "cell_type": "code",
   "execution_count": 7,
   "metadata": {},
   "outputs": [],
   "source": [
    "import numpy as np\n",
    "import math"
   ]
  },
  {
   "cell_type": "code",
   "execution_count": 8,
   "metadata": {},
   "outputs": [],
   "source": [
    "class Node:\n",
    "    code = None\n",
    "\n",
    "    def __init__(self, prob, char, left = None, right = None):\n",
    "        self.prob = prob\n",
    "        self.char = char\n",
    "        self.left = left\n",
    "        self.right = right\n",
    "\n",
    "class HuffmanCoding:\n",
    "    tree = None\n",
    "    \n",
    "    def __init__(self, filename):\n",
    "        self.filename = filename\n",
    "        self.text = self.loadFile(filename)\n",
    "        self.character_prob = self.calculateCharProb()\n",
    "        self.codes = dict()\n",
    "        self.encoded = \"\"\n",
    "\n",
    "    def loadFile(self, filename):\n",
    "        with open(filename) as f:\n",
    "            text = f.read()\n",
    "\n",
    "        return str(text)\n",
    "\n",
    "    def calculateCharProb(self) -> dict:\n",
    "        data = list(self.text)\n",
    "\n",
    "        characters, counts = np.unique(data, return_counts=True, axis=0)\n",
    "        number_of_char = counts.sum()\n",
    "        prob = counts / number_of_char\n",
    "\n",
    "        return dict(zip(characters, prob))\n",
    "\n",
    "    def create(self):\n",
    "        queue = []\n",
    "        for char in self.character_prob:\n",
    "            node = Node(self.character_prob[char], str(char))\n",
    "            queue.append(node)\n",
    "\n",
    "        while len(queue) > 1:\n",
    "            queue.sort(key=lambda x: x.prob, reverse = True)\n",
    "\n",
    "            left = queue.pop()\n",
    "            right = queue.pop()\n",
    "\n",
    "            node = Node(left.prob + right.prob, left.char + \n",
    "            right.char, left, right)\n",
    "            \n",
    "            queue.append(node)\n",
    "\n",
    "        root = queue.pop()\n",
    "        self.getCodes(root)\n",
    "        self.tree = root\n",
    "        \n",
    "        print(\"Binary codes: \", self.codes)\n",
    "\n",
    "    \n",
    "    def getCodes(self, node, code=\"\"):\n",
    "        \n",
    "        if node.left is None and node.right is None:\n",
    "            node.code = code\n",
    "            self.codes[node.char] = code\n",
    "\n",
    "        if node.left is not None:\n",
    "            self.getCodes(node.left, code + \"0\")\n",
    "\n",
    "        if node.right is not None:\n",
    "            self.getCodes(node.right, code + \"1\")\n",
    "            \n",
    "    def encode(self):\n",
    "        encoded = \"\"\n",
    "        for char in self.text:\n",
    "            encoded += self.codes[char]\n",
    "\n",
    "        print(\"Encoded text:\", encoded[:200], \"...\")\n",
    "        self.encoded = encoded\n",
    "\n",
    "    def decode(self):\n",
    "        decoded = \"\"\n",
    "        node = self.tree\n",
    "        for symbol in self.encoded:\n",
    "            if symbol == \"0\":\n",
    "                node = node.left\n",
    "            else:\n",
    "                node = node.right\n",
    "                \n",
    "            if node.left is None and node.right is None:\n",
    "                decoded += node.char\n",
    "                node = self.tree\n",
    "                    \n",
    "        print(\"Decoded text:\", decoded[:200], \"...\")\n",
    "        print(\"Is the decoded text the same as the original one?\", decoded == self.text)\n"
   ]
  },
  {
   "cell_type": "code",
   "execution_count": 9,
   "metadata": {},
   "outputs": [
    {
     "name": "stdout",
     "output_type": "stream",
     "text": [
      "Binary codes:  {'e': '000', 'm': '00100', 'y': '001010', 'k': '0010110', '4': '001011100', 'x': '001011101', '5': '001011110', '3': '001011111', 's': '0011', 'w': '010000', 'b': '010001', 'c': '01001', 'r': '0101', 'o': '0110', 'n': '0111', 'i': '1000', 'd': '10010', '2': '10011000', '9': '10011001', 'v': '1001101', 'g': '100111', 't': '1010', 'p': '101100', 'f': '101101', 'l': '10111', 'a': '1100', 'h': '11010', '8': '110110000', 'j': '110110001', '0': '11011001', 'q': '1101101000', 'z': '1101101001', '6': '1101101010', '7': '1101101011', '1': '11011011', 'u': '110111', ' ': '111'}\n",
      "Encoded text: 11111001011101000100001011010111011010110111110110001011101110011001110001100111110110111101101011111001001100001010111110110110010111001001100111011001111100110001101100111100100110001010100111010111 ...\n",
      "Decoded text:  albert of prussia 17 may 1490 20 march 1568 was the last grand master of the teutonic knights who after converting to lutheranism became the first monarch of the duchy of prussia the secularized stat ...\n",
      "Is the decoded text the same as the original one? True\n"
     ]
    }
   ],
   "source": [
    "hc = HuffmanCoding(\"norm_wiki_sample.txt\")\n",
    "hc.create()\n",
    "hc.encode()\n",
    "hc.decode()"
   ]
  },
  {
   "cell_type": "code",
   "execution_count": 10,
   "metadata": {},
   "outputs": [
    {
     "name": "stdout",
     "output_type": "stream",
     "text": [
      "6\n",
      "Fixed length size: 64733646\n",
      "Huffman encoding size: 46489714\n",
      "Ratio: 0.718169250037299\n"
     ]
    }
   ],
   "source": [
    "NUMBER_OF_CHARACTERS = 37\n",
    "fixed_char_length = math.ceil(np.log2(NUMBER_OF_CHARACTERS))\n",
    "print(fixed_char_length)\n",
    "number_of_bits = len(hc.text) * fixed_char_length\n",
    "print(\"Fixed length size:\", number_of_bits)\n",
    "print(\"Huffman encoding size:\", len(hc.encoded))\n",
    "print(\"Ratio:\", len(hc.encoded) / number_of_bits)"
   ]
  },
  {
   "cell_type": "markdown",
   "metadata": {},
   "source": [
    "Sources\n",
    "https://www.geeksforgeeks.org/huffman-coding-greedy-algo-3/ \\\n",
    "https://www.tutorialspoint.com/Huffman-Coding-Algorithm\n"
   ]
  }
 ],
 "metadata": {
  "interpreter": {
   "hash": "34b915823dfba6f9ceb2fb36ed3def5f6d503ac0bb80c3e72c8fb7daa153e8aa"
  },
  "kernelspec": {
   "display_name": "Python 3",
   "language": "python",
   "name": "python3"
  },
  "language_info": {
   "codemirror_mode": {
    "name": "ipython",
    "version": 3
   },
   "file_extension": ".py",
   "mimetype": "text/x-python",
   "name": "python",
   "nbconvert_exporter": "python",
   "pygments_lexer": "ipython3",
   "version": "3.8.3"
  }
 },
 "nbformat": 4,
 "nbformat_minor": 2
}
