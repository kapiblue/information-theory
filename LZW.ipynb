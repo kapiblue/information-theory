{
 "cells": [
  {
   "cell_type": "markdown",
   "metadata": {},
   "source": [
    "## LZW algorithm in Python\n",
    "Kacper Dobek"
   ]
  },
  {
   "cell_type": "code",
   "execution_count": 1,
   "metadata": {},
   "outputs": [],
   "source": [
    "ASCII_MAX = 256\n",
    "\n",
    "def load_file(filename) -> str:\n",
    "    with open(filename) as f:\n",
    "        text = f.read()\n",
    "    print(\"File loaded\")\n",
    "\n",
    "    return str(text)\n",
    "\n",
    "# encoded values are stored in a list\n",
    "def lzw_encode(data):\n",
    "    next_code = ASCII_MAX\n",
    "    encoded = []\n",
    "    p = data[0]\n",
    "    table = get_ascii_table()\n",
    "\n",
    "    for i in range(1, len(data)):\n",
    "        c = data[i]\n",
    "        if p + c in table.keys():\n",
    "            p += c\n",
    "        else:\n",
    "            encoded.append(table[p])\n",
    "            table[p+c] = next_code\n",
    "            next_code += 1\n",
    "            p = c\n",
    "    encoded.append(table[p])\n",
    "\n",
    "    present_solution(encoded[:100])\n",
    "\n",
    "    return encoded\n",
    "\n",
    "def lzw_decode(data):\n",
    "    next_code = ASCII_MAX\n",
    "    decoded = ''\n",
    "\n",
    "    table = get_ascii_table()\n",
    "    table = {v: k for k, v in table.items()}\n",
    "\n",
    "    p = data[0]\n",
    "    decoded += table[p]\n",
    "    for i in range(1, len(data)):\n",
    "        c = data[i]\n",
    "        if c not in table.keys():\n",
    "            s = table[p]\n",
    "            s += s[0]\n",
    "        else:\n",
    "            s = table[c]\n",
    "        decoded += s\n",
    "        k = s[0]\n",
    "        table[next_code] = table[p] + k\n",
    "        next_code += 1\n",
    "        p = c\n",
    "    print(decoded[:100])\n",
    "    return decoded\n",
    "\n",
    "# fills a dictionary with ASCII characters [0-255]\n",
    "def get_ascii_table() -> dict:\n",
    "    table = dict()\n",
    "    for i in range(0, ASCII_MAX):\n",
    "        table[chr(i)] = i\n",
    "\n",
    "    return table\n",
    "\n",
    "def present_solution(encoded):\n",
    "    temp = encoded.copy()\n",
    "    for i in range(len(temp)):\n",
    "        if temp[i] >= ASCII_MAX:\n",
    "            temp[i] = '*' + str(temp[i])\n",
    "    print(temp)"
   ]
  },
  {
   "cell_type": "markdown",
   "metadata": {},
   "source": [
    "A test on a short text"
   ]
  },
  {
   "cell_type": "code",
   "execution_count": 2,
   "metadata": {},
   "outputs": [
    {
     "name": "stdout",
     "output_type": "stream",
     "text": [
      "[83, 105, 120, 32, 115, 108, 101, 101, 107, '*259', 119, 97, 110, 115, '*265', 97, 109, '*265', 105, 102, 116, 108, 121, '*259', 111, 117, 116, 104, '*266', 114, 100, 115]\n",
      "Six sleek swans swam swiftly southwards\n",
      "Six sleek swans swam swiftly southwards\n"
     ]
    }
   ],
   "source": [
    "sample_text = \"Six sleek swans swam swiftly southwards\"\n",
    "encoded = lzw_encode(sample_text)\n",
    "decoded = lzw_decode(encoded)\n",
    "print(decoded)"
   ]
  },
  {
   "cell_type": "markdown",
   "metadata": {},
   "source": [
    "norm_wiki_sample.txt"
   ]
  },
  {
   "cell_type": "code",
   "execution_count": 3,
   "metadata": {},
   "outputs": [
    {
     "name": "stdout",
     "output_type": "stream",
     "text": [
      "File loaded\n",
      "[32, 97, 108, 98, 101, 114, 116, 32, 111, 102, 32, 112, 114, 117, 115, 115, 105, 97, 32, 49, 55, 32, 109, 97, 121, '*274', 52, 57, 48, 32, 50, '*284', '*278', 114, 99, 104, '*274', 53, 54, 56, 32, 119, 97, 115, 32, 116, 104, 101, 32, 108, '*298', '*262', 103, 114, 97, 110, 100, '*277', '*306', '*260', '*263', '*265', '*301', '*303', 116, 101, 117, 116, 111, 110, 105, 99, 32, 107, '*325', 103, 104, 116, '*299', 119, 104, 111, '*256', 102, '*320', 114, 32, 99, '*324', 118, '*260', 116, 105, 110, 103, '*300', '*337', 108, '*322', '*302']\n",
      " albert of prussia 17 may 1490 20 march 1568 was the last grand master of the teutonic knights who a\n",
      "Original size: 10788941 Encoded size: 1581560\n",
      "Ratio: 0.1465908470534782\n",
      "Is the text the same after decoding? True\n"
     ]
    }
   ],
   "source": [
    "sample_text = load_file(\"norm_wiki_sample.txt\")\n",
    "encoded = lzw_encode(sample_text)\n",
    "decoded = lzw_decode(encoded)\n",
    "print(\"Original size:\", len(sample_text), \"Encoded size:\", len(encoded))\n",
    "print(\"Ratio:\", len(encoded) / len(sample_text))\n",
    "print( \"Is the text the same after decoding?\", sample_text == decoded)"
   ]
  },
  {
   "cell_type": "markdown",
   "metadata": {},
   "source": [
    "wiki_sample.txt"
   ]
  },
  {
   "cell_type": "code",
   "execution_count": 4,
   "metadata": {},
   "outputs": [
    {
     "name": "stdout",
     "output_type": "stream",
     "text": [
      "File loaded\n",
      "[64, 64, 49, 53, 49, 52, 32, 65, 108, 98, 101, 114, 116, 32, 111, 102, 32, 80, 114, 117, 115, 115, 105, 97, 32, 40, 32, 49, 55, 32, 77, 97, 121, '*282', 52, 57, 48, 32, 50, '*292', '*286', 114, 99, 104, '*282', 53, 54, 56, 32, 41, 32, 119, 97, 115, 32, 116, 104, 101, 32, 108, '*308', '*268', 71, 114, 97, 110, 100, '*285', '*316', '*266', '*269', '*271', '*311', '*313', 84, 101, 117, 116, 111, 110, 105, 99, 32, 75, '*335', 103, 104, 116, '*309', 44, '*306', 104, 111, 32, 97, 102, 116, '*325', 99, '*334']\n",
      "@@1514 Albert of Prussia ( 17 May 1490 20 March 1568 ) was the last Grand Master of the Teutonic Kni\n",
      "Original size: 11904620 Encoded size: 1794108\n",
      "Ratio: 0.15070686842587164\n",
      "Is the text the same after decoding? True\n"
     ]
    }
   ],
   "source": [
    "sample_text = load_file(\"wiki_sample.txt\")\n",
    "encoded = lzw_encode(sample_text)\n",
    "decoded = lzw_decode(encoded)\n",
    "print(\"Original size:\", len(sample_text), \"Encoded size:\", len(encoded))\n",
    "print(\"Ratio:\", len(encoded) / len(sample_text))\n",
    "print(\"Is the text the same after decoding?\", sample_text == decoded)"
   ]
  },
  {
   "cell_type": "markdown",
   "metadata": {},
   "source": [
    "Let's work on the bmp file now.\n",
    "I find the offset and encode the pixel data. The data is read from the bmp file byte by byte. It is then passed to the encoding function as a string of ASCII characters."
   ]
  },
  {
   "cell_type": "code",
   "execution_count": 5,
   "metadata": {},
   "outputs": [],
   "source": [
    "import struct"
   ]
  },
  {
   "cell_type": "code",
   "execution_count": 6,
   "metadata": {},
   "outputs": [
    {
     "name": "stdout",
     "output_type": "stream",
     "text": [
      "138 24 11524800\n",
      "\\$>\\ :\\\\8\\\\:\\ 9\\\\4\\\\3\\\\4\\\\0\\\\0\\\\2\\\\2\\\\+\\\\,\\\\,\\\\)\\\\(\\\\+\\\\)\\\\'\\\\)\\\\)\\\\(\\\\,\\\\,\\\\-\\\\.\\\\0\\\\/\\\\/\\\\/\\\\2\\\\1\\\\4\\\\5\\\\3\\\\2\\\\3\\\\4\\\\2\\!6\\\\3\\\\3\\!6\\ 5\\\\1\\\\2\\#8\\ 5\\!6\\#8\\#9\\#9\\$:\\&<\\(>\\'=\\'=\\$:\\&;\\*?\\*@ -C)4J'8M+9O+9\n"
     ]
    }
   ],
   "source": [
    "with open(\"lena.bmp\", 'rb') as bmp:\n",
    "    \n",
    "    bmp.seek(10, 0) \n",
    "    offset = struct.unpack('I', bmp.read(4))\n",
    "    offset = offset[0]\n",
    "\n",
    "    bmp.seek(28, 0)\n",
    "    bpp = struct.unpack('H', bmp.read(2))\n",
    "    bpp = bpp[0]\n",
    "\n",
    "    bmp.seek(34, 0)\n",
    "    imageSize = struct.unpack('I', bmp.read(4))\n",
    "    imageSize = imageSize[0]\n",
    "\n",
    "    print(offset, bpp, imageSize)\n",
    "\n",
    "    bmp.seek(offset, 0)\n",
    "    imageData = ''\n",
    "\n",
    "    for byte in range(imageSize):\n",
    "        bmp_byte = bmp.read(1)\n",
    "        char = struct.unpack('c', bmp_byte)\n",
    "        char = char[0]\n",
    "        imageData += str(char)[2]\n",
    "    \n",
    "    print(imageData[:200])\n"
   ]
  },
  {
   "cell_type": "code",
   "execution_count": 7,
   "metadata": {},
   "outputs": [
    {
     "name": "stdout",
     "output_type": "stream",
     "text": [
      "[92, 36, 62, 92, 32, 58, 92, 92, 56, '*262', '*261', 32, 57, '*262', 52, '*262', 51, '*269', '*262', 48, '*274', '*262', 50, '*277', '*262', 43, '*262', 44, '*282', '*262', 41, '*262', 40, '*280', '*285', '*262', 39, '*290', 92, '*286', 92, '*288', 92, '*283', '*298', '*262', 45, '*262', 46, '*276', 92, 47, '*262', '*307', '*306', '*279', 92, 49, '*273', 92, 53, '*271', '*311', '*272', 92, '*270', 92, '*278', 33, 54, '*317', 92, '*272', '*324', '*259', '*316', '*312', '*279', 35, '*264', 32, '*316', '*329', '*334', 92, 35, '*268', '*341', '*256', '*261', 38, 60, '*296', '*258', 39, 61, 92, '*350', '*344', 92]\n",
      "\\$>\\ :\\\\8\\\\:\\ 9\\\\4\\\\3\\\\4\\\\0\\\\0\\\\2\\\\2\\\\+\\\\,\\\\,\\\\)\\\\(\\\\+\\\\)\\\\'\\\\)\\\\)\\\\(\\\\,\\\\,\\\\-\\\\.\\\\0\\\\/\\\\/\\\\/\\\\2\\\\1\\\n",
      "Original size: 11524800 Encoded size: 1574821\n",
      "Ratio: 0.1366462758572817\n",
      "Is the data the same after decoding? True\n"
     ]
    }
   ],
   "source": [
    "encoded = lzw_encode(imageData)\n",
    "decoded = lzw_decode(encoded)\n",
    "print(\"Original size:\", len(imageData), \"Encoded size:\", len(encoded))\n",
    "print(\"Ratio:\", len(encoded) / len(imageData))\n",
    "print(\"Is the data the same after decoding?\", imageData == decoded)"
   ]
  },
  {
   "cell_type": "markdown",
   "metadata": {},
   "source": [
    "Sources https://www.geeksforgeeks.org/lzw-lempel-ziv-welch-compression-technique/ \\\n",
    "https://www.youtube.com/watch?v=0Kwqdkhgbfw"
   ]
  }
 ],
 "metadata": {
  "interpreter": {
   "hash": "34b915823dfba6f9ceb2fb36ed3def5f6d503ac0bb80c3e72c8fb7daa153e8aa"
  },
  "kernelspec": {
   "display_name": "Python 3.8.3 ('base')",
   "language": "python",
   "name": "python3"
  },
  "language_info": {
   "codemirror_mode": {
    "name": "ipython",
    "version": 3
   },
   "file_extension": ".py",
   "mimetype": "text/x-python",
   "name": "python",
   "nbconvert_exporter": "python",
   "pygments_lexer": "ipython3",
   "version": "3.8.3"
  },
  "orig_nbformat": 4
 },
 "nbformat": 4,
 "nbformat_minor": 2
}
